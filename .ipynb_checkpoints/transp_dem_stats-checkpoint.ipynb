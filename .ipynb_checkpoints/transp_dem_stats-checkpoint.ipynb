{
 "cells": [
  {
   "cell_type": "code",
   "execution_count": 135,
   "id": "7514353f-84f2-4382-9343-4558851d11f1",
   "metadata": {},
   "outputs": [],
   "source": [
    "import numpy as np\n",
    "import pandas as pd\n",
    "import seaborn as sns\n",
    "import matplotlib.pyplot as plt\n",
    "import scipy.stats as stats"
   ]
  },
  {
   "cell_type": "markdown",
   "id": "b3c070d4-58a6-49f9-8eff-3765c0493be3",
   "metadata": {},
   "source": [
    "#### Introducing data"
   ]
  },
  {
   "cell_type": "code",
   "execution_count": 71,
   "id": "8b73228e-686c-423c-bb28-e61067dbf2c4",
   "metadata": {},
   "outputs": [],
   "source": [
    "# Projected travels into the future according to demographics and land use\n",
    "P_is = np.array([750, 580, 480])    # produced\n",
    "A_js = np.array([722, 786, 302])    # attracted\n",
    "\n",
    "# Matrix of travels obtained with gravitational model, neutral calibration coeffs (simulating historical data)\n",
    "gvalsr_m = np.array([[82, 140, 78], [43, 26, 31], [82, 31, 37]])\n",
    "\n",
    "# Adjusted intial travels matrices\n",
    "gvalsadjA = np.array([[81, 116, 103], [40, 20, 39], [78, 25, 47]])    # interative adjustment (Furness style)\n",
    "gvalsadjB = np.array([[78, 112, 110], [40, 22, 38], [83, 26, 40]])    # weighted adjustment (new method)\n",
    "\n",
    "# Calibration coefficients resulted accordingly\n",
    "ccoeffsA = np.array([[0.49, 0.95, 1.46], [1.25, 1, 0.77], [1.41, 1.2, 0.21]])    # iterative ...\n",
    "ccoeffsB = np.array([[0.51, 0.98, 1.36], [1.25, 0.91, 0.79], [1.33, 1.15, 0.25]])    # weighted ...\n",
    "\n",
    "# Matrix of future travels obtained with gravitational model and ccoeffsA matrix\n",
    "gvalsr_finA = np.array([[112, 377, 245], [298, 241, 49], [312, 168, 8]])\n",
    "# Matrix of future travels obtained with gravitational model and ccoeffsB matrix\n",
    "gvalsr_finB = np.array([[115, 392, 238], [302, 225, 54], [304, 169, 10]])\n",
    "\n",
    "# Matrix of travels obtained with Furness method\n",
    "travsc_furn = np.array([[99, 452, 199], [292, 194, 94], [320, 145, 16]])\n",
    "\n",
    "# Matrix of travels obtained with Fratar method\n",
    "travsc_frat = np.array([[105, 452, 192], [306, 186, 88], [330, 136, 14]])\n",
    "\n",
    "# Matrix of travels obtained with average growth factor\n",
    "travsc_avgf = np.array([[104, 464, 186], [296, 175, 104], [325, 141, 15]])\n",
    "\n",
    "# Matrix of travels obtained with Detroit method\n",
    "travsc_detr = np.array([[103, 458, 199], [295, 191, 91], [318, 141, 15]])\n",
    "\n",
    "# Matrix of travels obtained with weighted method (new method)\n",
    "travsc_wgtd = np.array([[103, 487, 157], [295, 155, 131], [324, 144, 14]])"
   ]
  },
  {
   "cell_type": "markdown",
   "id": "d2dee3ba-11ce-4e77-bd2a-05d634dee03b",
   "metadata": {},
   "source": [
    "#### Flatten the original arrays"
   ]
  },
  {
   "cell_type": "code",
   "execution_count": 73,
   "id": "c56e34e2-f27a-467b-8aac-c0049063ebfe",
   "metadata": {},
   "outputs": [],
   "source": [
    "gvalsr_finAflat = gvalsr_finA.flatten()\n",
    "gvalsr_finBflat = gvalsr_finB.flatten()\n",
    "\n",
    "travsc_furnflat = travsc_furn.flatten()\n",
    "\n",
    "travsc_fratflat = travsc_frat.flatten()\n",
    "\n",
    "travsc_avgfflat = travsc_avgf.flatten()\n",
    "\n",
    "travsc_detrflat = travsc_detr.flatten()\n",
    "\n",
    "travsc_wgtdflat = travsc_wgtd.flatten()"
   ]
  },
  {
   "cell_type": "markdown",
   "id": "bb3800aa-81f0-4ee9-bc6f-52f5619215a6",
   "metadata": {},
   "source": [
    "#### Create two dfs from flattened arrays"
   ]
  },
  {
   "cell_type": "code",
   "execution_count": 75,
   "id": "0f172eae-1f99-4016-9453-26265f8a193f",
   "metadata": {},
   "outputs": [
    {
     "data": {
      "text/html": [
       "<div>\n",
       "<style scoped>\n",
       "    .dataframe tbody tr th:only-of-type {\n",
       "        vertical-align: middle;\n",
       "    }\n",
       "\n",
       "    .dataframe tbody tr th {\n",
       "        vertical-align: top;\n",
       "    }\n",
       "\n",
       "    .dataframe thead th {\n",
       "        text-align: right;\n",
       "    }\n",
       "</style>\n",
       "<table border=\"1\" class=\"dataframe\">\n",
       "  <thead>\n",
       "    <tr style=\"text-align: right;\">\n",
       "      <th></th>\n",
       "      <th>gravit</th>\n",
       "      <th>fratar</th>\n",
       "      <th>furness</th>\n",
       "      <th>avGF</th>\n",
       "      <th>detroit</th>\n",
       "      <th>weighted</th>\n",
       "    </tr>\n",
       "  </thead>\n",
       "  <tbody>\n",
       "    <tr>\n",
       "      <th>0</th>\n",
       "      <td>112</td>\n",
       "      <td>105</td>\n",
       "      <td>99</td>\n",
       "      <td>104</td>\n",
       "      <td>103</td>\n",
       "      <td>103</td>\n",
       "    </tr>\n",
       "    <tr>\n",
       "      <th>1</th>\n",
       "      <td>377</td>\n",
       "      <td>452</td>\n",
       "      <td>452</td>\n",
       "      <td>464</td>\n",
       "      <td>458</td>\n",
       "      <td>487</td>\n",
       "    </tr>\n",
       "    <tr>\n",
       "      <th>2</th>\n",
       "      <td>245</td>\n",
       "      <td>192</td>\n",
       "      <td>199</td>\n",
       "      <td>186</td>\n",
       "      <td>199</td>\n",
       "      <td>157</td>\n",
       "    </tr>\n",
       "    <tr>\n",
       "      <th>3</th>\n",
       "      <td>298</td>\n",
       "      <td>306</td>\n",
       "      <td>292</td>\n",
       "      <td>296</td>\n",
       "      <td>295</td>\n",
       "      <td>295</td>\n",
       "    </tr>\n",
       "    <tr>\n",
       "      <th>4</th>\n",
       "      <td>241</td>\n",
       "      <td>186</td>\n",
       "      <td>194</td>\n",
       "      <td>175</td>\n",
       "      <td>191</td>\n",
       "      <td>155</td>\n",
       "    </tr>\n",
       "    <tr>\n",
       "      <th>5</th>\n",
       "      <td>49</td>\n",
       "      <td>88</td>\n",
       "      <td>94</td>\n",
       "      <td>104</td>\n",
       "      <td>91</td>\n",
       "      <td>131</td>\n",
       "    </tr>\n",
       "    <tr>\n",
       "      <th>6</th>\n",
       "      <td>312</td>\n",
       "      <td>330</td>\n",
       "      <td>320</td>\n",
       "      <td>325</td>\n",
       "      <td>318</td>\n",
       "      <td>324</td>\n",
       "    </tr>\n",
       "    <tr>\n",
       "      <th>7</th>\n",
       "      <td>168</td>\n",
       "      <td>136</td>\n",
       "      <td>145</td>\n",
       "      <td>141</td>\n",
       "      <td>141</td>\n",
       "      <td>144</td>\n",
       "    </tr>\n",
       "    <tr>\n",
       "      <th>8</th>\n",
       "      <td>8</td>\n",
       "      <td>14</td>\n",
       "      <td>16</td>\n",
       "      <td>15</td>\n",
       "      <td>15</td>\n",
       "      <td>14</td>\n",
       "    </tr>\n",
       "  </tbody>\n",
       "</table>\n",
       "</div>"
      ],
      "text/plain": [
       "   gravit  fratar  furness  avGF  detroit  weighted\n",
       "0     112     105       99   104      103       103\n",
       "1     377     452      452   464      458       487\n",
       "2     245     192      199   186      199       157\n",
       "3     298     306      292   296      295       295\n",
       "4     241     186      194   175      191       155\n",
       "5      49      88       94   104       91       131\n",
       "6     312     330      320   325      318       324\n",
       "7     168     136      145   141      141       144\n",
       "8       8      14       16    15       15        14"
      ]
     },
     "execution_count": 75,
     "metadata": {},
     "output_type": "execute_result"
    }
   ],
   "source": [
    "all_travs = pd.DataFrame(data=[gvalsr_finAflat, travsc_fratflat,\n",
    "                               travsc_furnflat, travsc_avgfflat,\n",
    "                               travsc_detrflat,travsc_wgtdflat]).T\n",
    "all_travs.columns = ['gravit', 'fratar', 'furness', 'avGF', 'detroit', 'weighted']\n",
    "all_travs.head(9)"
   ]
  },
  {
   "cell_type": "code",
   "execution_count": 76,
   "id": "29b00b5b-d107-4d79-8cc1-716e83c06dc2",
   "metadata": {},
   "outputs": [
    {
     "data": {
      "text/html": [
       "<div>\n",
       "<style scoped>\n",
       "    .dataframe tbody tr th:only-of-type {\n",
       "        vertical-align: middle;\n",
       "    }\n",
       "\n",
       "    .dataframe tbody tr th {\n",
       "        vertical-align: top;\n",
       "    }\n",
       "\n",
       "    .dataframe thead th {\n",
       "        text-align: right;\n",
       "    }\n",
       "</style>\n",
       "<table border=\"1\" class=\"dataframe\">\n",
       "  <thead>\n",
       "    <tr style=\"text-align: right;\">\n",
       "      <th></th>\n",
       "      <th>fratar</th>\n",
       "      <th>furness</th>\n",
       "      <th>avGF</th>\n",
       "      <th>detroit</th>\n",
       "      <th>weighted</th>\n",
       "    </tr>\n",
       "  </thead>\n",
       "  <tbody>\n",
       "    <tr>\n",
       "      <th>0</th>\n",
       "      <td>105</td>\n",
       "      <td>99</td>\n",
       "      <td>104</td>\n",
       "      <td>103</td>\n",
       "      <td>103</td>\n",
       "    </tr>\n",
       "    <tr>\n",
       "      <th>1</th>\n",
       "      <td>452</td>\n",
       "      <td>452</td>\n",
       "      <td>464</td>\n",
       "      <td>458</td>\n",
       "      <td>487</td>\n",
       "    </tr>\n",
       "    <tr>\n",
       "      <th>2</th>\n",
       "      <td>192</td>\n",
       "      <td>199</td>\n",
       "      <td>186</td>\n",
       "      <td>199</td>\n",
       "      <td>157</td>\n",
       "    </tr>\n",
       "    <tr>\n",
       "      <th>3</th>\n",
       "      <td>306</td>\n",
       "      <td>292</td>\n",
       "      <td>296</td>\n",
       "      <td>295</td>\n",
       "      <td>295</td>\n",
       "    </tr>\n",
       "    <tr>\n",
       "      <th>4</th>\n",
       "      <td>186</td>\n",
       "      <td>194</td>\n",
       "      <td>175</td>\n",
       "      <td>191</td>\n",
       "      <td>155</td>\n",
       "    </tr>\n",
       "    <tr>\n",
       "      <th>5</th>\n",
       "      <td>88</td>\n",
       "      <td>94</td>\n",
       "      <td>104</td>\n",
       "      <td>91</td>\n",
       "      <td>131</td>\n",
       "    </tr>\n",
       "    <tr>\n",
       "      <th>6</th>\n",
       "      <td>330</td>\n",
       "      <td>320</td>\n",
       "      <td>325</td>\n",
       "      <td>318</td>\n",
       "      <td>324</td>\n",
       "    </tr>\n",
       "    <tr>\n",
       "      <th>7</th>\n",
       "      <td>136</td>\n",
       "      <td>145</td>\n",
       "      <td>141</td>\n",
       "      <td>141</td>\n",
       "      <td>144</td>\n",
       "    </tr>\n",
       "    <tr>\n",
       "      <th>8</th>\n",
       "      <td>14</td>\n",
       "      <td>16</td>\n",
       "      <td>15</td>\n",
       "      <td>15</td>\n",
       "      <td>14</td>\n",
       "    </tr>\n",
       "  </tbody>\n",
       "</table>\n",
       "</div>"
      ],
      "text/plain": [
       "   fratar  furness  avGF  detroit  weighted\n",
       "0     105       99   104      103       103\n",
       "1     452      452   464      458       487\n",
       "2     192      199   186      199       157\n",
       "3     306      292   296      295       295\n",
       "4     186      194   175      191       155\n",
       "5      88       94   104       91       131\n",
       "6     330      320   325      318       324\n",
       "7     136      145   141      141       144\n",
       "8      14       16    15       15        14"
      ]
     },
     "execution_count": 76,
     "metadata": {},
     "output_type": "execute_result"
    }
   ],
   "source": [
    "growthfact = all_travs.loc[:, ['fratar', 'furness', 'avGF', 'detroit', 'weighted']]\n",
    "growthfact.head(9)"
   ]
  },
  {
   "cell_type": "markdown",
   "id": "7d873130-9f5c-434e-a78f-ff447b6b116b",
   "metadata": {},
   "source": [
    "#### Check correlation"
   ]
  },
  {
   "cell_type": "code",
   "execution_count": 78,
   "id": "e5f7e50d-cbde-4864-8417-e9a8ddc22d98",
   "metadata": {},
   "outputs": [
    {
     "data": {
      "text/html": [
       "<style type=\"text/css\">\n",
       "#T_bd8d0_row0_col0, #T_bd8d0_row1_col1, #T_bd8d0_row2_col2, #T_bd8d0_row3_col3, #T_bd8d0_row4_col4, #T_bd8d0_row5_col5 {\n",
       "  background-color: #b40426;\n",
       "  color: #f1f1f1;\n",
       "}\n",
       "#T_bd8d0_row0_col1, #T_bd8d0_row0_col2, #T_bd8d0_row0_col3, #T_bd8d0_row0_col4, #T_bd8d0_row0_col5, #T_bd8d0_row5_col0 {\n",
       "  background-color: #3b4cc0;\n",
       "  color: #f1f1f1;\n",
       "}\n",
       "#T_bd8d0_row1_col0 {\n",
       "  background-color: #efcfbf;\n",
       "  color: #000000;\n",
       "}\n",
       "#T_bd8d0_row1_col2, #T_bd8d0_row1_col3 {\n",
       "  background-color: #c12b30;\n",
       "  color: #f1f1f1;\n",
       "}\n",
       "#T_bd8d0_row1_col4 {\n",
       "  background-color: #be242e;\n",
       "  color: #f1f1f1;\n",
       "}\n",
       "#T_bd8d0_row1_col5 {\n",
       "  background-color: #e36c55;\n",
       "  color: #f1f1f1;\n",
       "}\n",
       "#T_bd8d0_row2_col0 {\n",
       "  background-color: #f2cab5;\n",
       "  color: #000000;\n",
       "}\n",
       "#T_bd8d0_row2_col1, #T_bd8d0_row4_col3 {\n",
       "  background-color: #c0282f;\n",
       "  color: #f1f1f1;\n",
       "}\n",
       "#T_bd8d0_row2_col3 {\n",
       "  background-color: #c32e31;\n",
       "  color: #f1f1f1;\n",
       "}\n",
       "#T_bd8d0_row2_col4, #T_bd8d0_row4_col2 {\n",
       "  background-color: #b50927;\n",
       "  color: #f1f1f1;\n",
       "}\n",
       "#T_bd8d0_row2_col5 {\n",
       "  background-color: #e46e56;\n",
       "  color: #f1f1f1;\n",
       "}\n",
       "#T_bd8d0_row3_col0 {\n",
       "  background-color: #c5d6f2;\n",
       "  color: #000000;\n",
       "}\n",
       "#T_bd8d0_row3_col1, #T_bd8d0_row3_col4 {\n",
       "  background-color: #c53334;\n",
       "  color: #f1f1f1;\n",
       "}\n",
       "#T_bd8d0_row3_col2 {\n",
       "  background-color: #c83836;\n",
       "  color: #f1f1f1;\n",
       "}\n",
       "#T_bd8d0_row3_col5 {\n",
       "  background-color: #cb3e38;\n",
       "  color: #f1f1f1;\n",
       "}\n",
       "#T_bd8d0_row4_col0 {\n",
       "  background-color: #efcebd;\n",
       "  color: #000000;\n",
       "}\n",
       "#T_bd8d0_row4_col1 {\n",
       "  background-color: #bd1f2d;\n",
       "  color: #f1f1f1;\n",
       "}\n",
       "#T_bd8d0_row4_col5 {\n",
       "  background-color: #e36b54;\n",
       "  color: #f1f1f1;\n",
       "}\n",
       "#T_bd8d0_row5_col1 {\n",
       "  background-color: #f6bea4;\n",
       "  color: #000000;\n",
       "}\n",
       "#T_bd8d0_row5_col2 {\n",
       "  background-color: #f2c9b4;\n",
       "  color: #000000;\n",
       "}\n",
       "#T_bd8d0_row5_col3 {\n",
       "  background-color: #d95847;\n",
       "  color: #f1f1f1;\n",
       "}\n",
       "#T_bd8d0_row5_col4 {\n",
       "  background-color: #f6bfa6;\n",
       "  color: #000000;\n",
       "}\n",
       "</style>\n",
       "<table id=\"T_bd8d0\">\n",
       "  <thead>\n",
       "    <tr>\n",
       "      <th class=\"blank level0\" >&nbsp;</th>\n",
       "      <th id=\"T_bd8d0_level0_col0\" class=\"col_heading level0 col0\" >gravit</th>\n",
       "      <th id=\"T_bd8d0_level0_col1\" class=\"col_heading level0 col1\" >fratar</th>\n",
       "      <th id=\"T_bd8d0_level0_col2\" class=\"col_heading level0 col2\" >furness</th>\n",
       "      <th id=\"T_bd8d0_level0_col3\" class=\"col_heading level0 col3\" >avGF</th>\n",
       "      <th id=\"T_bd8d0_level0_col4\" class=\"col_heading level0 col4\" >detroit</th>\n",
       "      <th id=\"T_bd8d0_level0_col5\" class=\"col_heading level0 col5\" >weighted</th>\n",
       "    </tr>\n",
       "  </thead>\n",
       "  <tbody>\n",
       "    <tr>\n",
       "      <th id=\"T_bd8d0_level0_row0\" class=\"row_heading level0 row0\" >gravit</th>\n",
       "      <td id=\"T_bd8d0_row0_col0\" class=\"data row0 col0\" >1.000000</td>\n",
       "      <td id=\"T_bd8d0_row0_col1\" class=\"data row0 col1\" >0.952239</td>\n",
       "      <td id=\"T_bd8d0_row0_col2\" class=\"data row0 col2\" >0.954899</td>\n",
       "      <td id=\"T_bd8d0_row0_col3\" class=\"data row0 col3\" >0.933903</td>\n",
       "      <td id=\"T_bd8d0_row0_col4\" class=\"data row0 col4\" >0.952855</td>\n",
       "      <td id=\"T_bd8d0_row0_col5\" class=\"data row0 col5\" >0.886502</td>\n",
       "    </tr>\n",
       "    <tr>\n",
       "      <th id=\"T_bd8d0_level0_row1\" class=\"row_heading level0 row1\" >fratar</th>\n",
       "      <td id=\"T_bd8d0_row1_col0\" class=\"data row1 col0\" >0.952239</td>\n",
       "      <td id=\"T_bd8d0_row1_col1\" class=\"data row1 col1\" >1.000000</td>\n",
       "      <td id=\"T_bd8d0_row1_col2\" class=\"data row1 col2\" >0.998409</td>\n",
       "      <td id=\"T_bd8d0_row1_col3\" class=\"data row1 col3\" >0.997668</td>\n",
       "      <td id=\"T_bd8d0_row1_col4\" class=\"data row1 col4\" >0.998695</td>\n",
       "      <td id=\"T_bd8d0_row1_col5\" class=\"data row1 col5\" >0.983106</td>\n",
       "    </tr>\n",
       "    <tr>\n",
       "      <th id=\"T_bd8d0_level0_row2\" class=\"row_heading level0 row2\" >furness</th>\n",
       "      <td id=\"T_bd8d0_row2_col0\" class=\"data row2 col0\" >0.954899</td>\n",
       "      <td id=\"T_bd8d0_row2_col1\" class=\"data row2 col1\" >0.998409</td>\n",
       "      <td id=\"T_bd8d0_row2_col2\" class=\"data row2 col2\" >1.000000</td>\n",
       "      <td id=\"T_bd8d0_row2_col3\" class=\"data row2 col3\" >0.997368</td>\n",
       "      <td id=\"T_bd8d0_row2_col4\" class=\"data row2 col4\" >0.999746</td>\n",
       "      <td id=\"T_bd8d0_row2_col5\" class=\"data row2 col5\" >0.982371</td>\n",
       "    </tr>\n",
       "    <tr>\n",
       "      <th id=\"T_bd8d0_level0_row3\" class=\"row_heading level0 row3\" >avGF</th>\n",
       "      <td id=\"T_bd8d0_row3_col0\" class=\"data row3 col0\" >0.933903</td>\n",
       "      <td id=\"T_bd8d0_row3_col1\" class=\"data row3 col1\" >0.997668</td>\n",
       "      <td id=\"T_bd8d0_row3_col2\" class=\"data row3 col2\" >0.997368</td>\n",
       "      <td id=\"T_bd8d0_row3_col3\" class=\"data row3 col3\" >1.000000</td>\n",
       "      <td id=\"T_bd8d0_row3_col4\" class=\"data row3 col4\" >0.997778</td>\n",
       "      <td id=\"T_bd8d0_row3_col5\" class=\"data row3 col5\" >0.992615</td>\n",
       "    </tr>\n",
       "    <tr>\n",
       "      <th id=\"T_bd8d0_level0_row4\" class=\"row_heading level0 row4\" >detroit</th>\n",
       "      <td id=\"T_bd8d0_row4_col0\" class=\"data row4 col0\" >0.952855</td>\n",
       "      <td id=\"T_bd8d0_row4_col1\" class=\"data row4 col1\" >0.998695</td>\n",
       "      <td id=\"T_bd8d0_row4_col2\" class=\"data row4 col2\" >0.999746</td>\n",
       "      <td id=\"T_bd8d0_row4_col3\" class=\"data row4 col3\" >0.997778</td>\n",
       "      <td id=\"T_bd8d0_row4_col4\" class=\"data row4 col4\" >1.000000</td>\n",
       "      <td id=\"T_bd8d0_row4_col5\" class=\"data row4 col5\" >0.983161</td>\n",
       "    </tr>\n",
       "    <tr>\n",
       "      <th id=\"T_bd8d0_level0_row5\" class=\"row_heading level0 row5\" >weighted</th>\n",
       "      <td id=\"T_bd8d0_row5_col0\" class=\"data row5 col0\" >0.886502</td>\n",
       "      <td id=\"T_bd8d0_row5_col1\" class=\"data row5 col1\" >0.983106</td>\n",
       "      <td id=\"T_bd8d0_row5_col2\" class=\"data row5 col2\" >0.982371</td>\n",
       "      <td id=\"T_bd8d0_row5_col3\" class=\"data row5 col3\" >0.992615</td>\n",
       "      <td id=\"T_bd8d0_row5_col4\" class=\"data row5 col4\" >0.983161</td>\n",
       "      <td id=\"T_bd8d0_row5_col5\" class=\"data row5 col5\" >1.000000</td>\n",
       "    </tr>\n",
       "  </tbody>\n",
       "</table>\n"
      ],
      "text/plain": [
       "<pandas.io.formats.style.Styler at 0x7f462121df10>"
      ]
     },
     "execution_count": 78,
     "metadata": {},
     "output_type": "execute_result"
    }
   ],
   "source": [
    "# Pearson correlation table with colorscheme, all methods\n",
    "all_travs.corr().style.background_gradient(cmap='coolwarm')"
   ]
  },
  {
   "cell_type": "code",
   "execution_count": 79,
   "id": "b4b81190-45d1-40dd-a414-5336ad14d8d8",
   "metadata": {},
   "outputs": [
    {
     "data": {
      "text/html": [
       "<style type=\"text/css\">\n",
       "#T_e18e0_row0_col0, #T_e18e0_row1_col1, #T_e18e0_row2_col2, #T_e18e0_row3_col3, #T_e18e0_row4_col4 {\n",
       "  background-color: #b40426;\n",
       "  color: #f1f1f1;\n",
       "}\n",
       "#T_e18e0_row0_col1 {\n",
       "  background-color: #d44e41;\n",
       "  color: #f1f1f1;\n",
       "}\n",
       "#T_e18e0_row0_col2 {\n",
       "  background-color: #f7b194;\n",
       "  color: #000000;\n",
       "}\n",
       "#T_e18e0_row0_col3, #T_e18e0_row3_col0 {\n",
       "  background-color: #cf453c;\n",
       "  color: #f1f1f1;\n",
       "}\n",
       "#T_e18e0_row0_col4 {\n",
       "  background-color: #465ecf;\n",
       "  color: #f1f1f1;\n",
       "}\n",
       "#T_e18e0_row1_col0 {\n",
       "  background-color: #d55042;\n",
       "  color: #f1f1f1;\n",
       "}\n",
       "#T_e18e0_row1_col2 {\n",
       "  background-color: #f6bfa6;\n",
       "  color: #000000;\n",
       "}\n",
       "#T_e18e0_row1_col3, #T_e18e0_row3_col1 {\n",
       "  background-color: #b8122a;\n",
       "  color: #f1f1f1;\n",
       "}\n",
       "#T_e18e0_row1_col4, #T_e18e0_row4_col0, #T_e18e0_row4_col1, #T_e18e0_row4_col2, #T_e18e0_row4_col3 {\n",
       "  background-color: #3b4cc0;\n",
       "  color: #f1f1f1;\n",
       "}\n",
       "#T_e18e0_row2_col0 {\n",
       "  background-color: #e16751;\n",
       "  color: #f1f1f1;\n",
       "}\n",
       "#T_e18e0_row2_col1 {\n",
       "  background-color: #e36c55;\n",
       "  color: #f1f1f1;\n",
       "}\n",
       "#T_e18e0_row2_col3 {\n",
       "  background-color: #df634e;\n",
       "  color: #f1f1f1;\n",
       "}\n",
       "#T_e18e0_row2_col4 {\n",
       "  background-color: #efcfbf;\n",
       "  color: #000000;\n",
       "}\n",
       "#T_e18e0_row3_col2 {\n",
       "  background-color: #f7ad90;\n",
       "  color: #000000;\n",
       "}\n",
       "#T_e18e0_row3_col4 {\n",
       "  background-color: #485fd1;\n",
       "  color: #f1f1f1;\n",
       "}\n",
       "</style>\n",
       "<table id=\"T_e18e0\">\n",
       "  <thead>\n",
       "    <tr>\n",
       "      <th class=\"blank level0\" >&nbsp;</th>\n",
       "      <th id=\"T_e18e0_level0_col0\" class=\"col_heading level0 col0\" >fratar</th>\n",
       "      <th id=\"T_e18e0_level0_col1\" class=\"col_heading level0 col1\" >furness</th>\n",
       "      <th id=\"T_e18e0_level0_col2\" class=\"col_heading level0 col2\" >avGF</th>\n",
       "      <th id=\"T_e18e0_level0_col3\" class=\"col_heading level0 col3\" >detroit</th>\n",
       "      <th id=\"T_e18e0_level0_col4\" class=\"col_heading level0 col4\" >weighted</th>\n",
       "    </tr>\n",
       "  </thead>\n",
       "  <tbody>\n",
       "    <tr>\n",
       "      <th id=\"T_e18e0_level0_row0\" class=\"row_heading level0 row0\" >fratar</th>\n",
       "      <td id=\"T_e18e0_row0_col0\" class=\"data row0 col0\" >1.000000</td>\n",
       "      <td id=\"T_e18e0_row0_col1\" class=\"data row0 col1\" >0.998409</td>\n",
       "      <td id=\"T_e18e0_row0_col2\" class=\"data row0 col2\" >0.997668</td>\n",
       "      <td id=\"T_e18e0_row0_col3\" class=\"data row0 col3\" >0.998695</td>\n",
       "      <td id=\"T_e18e0_row0_col4\" class=\"data row0 col4\" >0.983106</td>\n",
       "    </tr>\n",
       "    <tr>\n",
       "      <th id=\"T_e18e0_level0_row1\" class=\"row_heading level0 row1\" >furness</th>\n",
       "      <td id=\"T_e18e0_row1_col0\" class=\"data row1 col0\" >0.998409</td>\n",
       "      <td id=\"T_e18e0_row1_col1\" class=\"data row1 col1\" >1.000000</td>\n",
       "      <td id=\"T_e18e0_row1_col2\" class=\"data row1 col2\" >0.997368</td>\n",
       "      <td id=\"T_e18e0_row1_col3\" class=\"data row1 col3\" >0.999746</td>\n",
       "      <td id=\"T_e18e0_row1_col4\" class=\"data row1 col4\" >0.982371</td>\n",
       "    </tr>\n",
       "    <tr>\n",
       "      <th id=\"T_e18e0_level0_row2\" class=\"row_heading level0 row2\" >avGF</th>\n",
       "      <td id=\"T_e18e0_row2_col0\" class=\"data row2 col0\" >0.997668</td>\n",
       "      <td id=\"T_e18e0_row2_col1\" class=\"data row2 col1\" >0.997368</td>\n",
       "      <td id=\"T_e18e0_row2_col2\" class=\"data row2 col2\" >1.000000</td>\n",
       "      <td id=\"T_e18e0_row2_col3\" class=\"data row2 col3\" >0.997778</td>\n",
       "      <td id=\"T_e18e0_row2_col4\" class=\"data row2 col4\" >0.992615</td>\n",
       "    </tr>\n",
       "    <tr>\n",
       "      <th id=\"T_e18e0_level0_row3\" class=\"row_heading level0 row3\" >detroit</th>\n",
       "      <td id=\"T_e18e0_row3_col0\" class=\"data row3 col0\" >0.998695</td>\n",
       "      <td id=\"T_e18e0_row3_col1\" class=\"data row3 col1\" >0.999746</td>\n",
       "      <td id=\"T_e18e0_row3_col2\" class=\"data row3 col2\" >0.997778</td>\n",
       "      <td id=\"T_e18e0_row3_col3\" class=\"data row3 col3\" >1.000000</td>\n",
       "      <td id=\"T_e18e0_row3_col4\" class=\"data row3 col4\" >0.983161</td>\n",
       "    </tr>\n",
       "    <tr>\n",
       "      <th id=\"T_e18e0_level0_row4\" class=\"row_heading level0 row4\" >weighted</th>\n",
       "      <td id=\"T_e18e0_row4_col0\" class=\"data row4 col0\" >0.983106</td>\n",
       "      <td id=\"T_e18e0_row4_col1\" class=\"data row4 col1\" >0.982371</td>\n",
       "      <td id=\"T_e18e0_row4_col2\" class=\"data row4 col2\" >0.992615</td>\n",
       "      <td id=\"T_e18e0_row4_col3\" class=\"data row4 col3\" >0.983161</td>\n",
       "      <td id=\"T_e18e0_row4_col4\" class=\"data row4 col4\" >1.000000</td>\n",
       "    </tr>\n",
       "  </tbody>\n",
       "</table>\n"
      ],
      "text/plain": [
       "<pandas.io.formats.style.Styler at 0x7f4621288a30>"
      ]
     },
     "execution_count": 79,
     "metadata": {},
     "output_type": "execute_result"
    }
   ],
   "source": [
    "# Pearson correlation table with colorscheme, growth factor methods\n",
    "growthfact.corr().style.background_gradient(cmap='coolwarm')"
   ]
  },
  {
   "cell_type": "markdown",
   "id": "d44ee9ef-50c2-4888-b151-734a2058bbcf",
   "metadata": {},
   "source": [
    "#### Get the stats tableau and median for each column in dfs"
   ]
  },
  {
   "cell_type": "code",
   "execution_count": 81,
   "id": "1dee11ff-0093-4080-938f-a018360fb4fd",
   "metadata": {},
   "outputs": [
    {
     "data": {
      "text/html": [
       "<div>\n",
       "<style scoped>\n",
       "    .dataframe tbody tr th:only-of-type {\n",
       "        vertical-align: middle;\n",
       "    }\n",
       "\n",
       "    .dataframe tbody tr th {\n",
       "        vertical-align: top;\n",
       "    }\n",
       "\n",
       "    .dataframe thead th {\n",
       "        text-align: right;\n",
       "    }\n",
       "</style>\n",
       "<table border=\"1\" class=\"dataframe\">\n",
       "  <thead>\n",
       "    <tr style=\"text-align: right;\">\n",
       "      <th></th>\n",
       "      <th>0</th>\n",
       "      <th>1</th>\n",
       "      <th>2</th>\n",
       "      <th>3</th>\n",
       "      <th>4</th>\n",
       "      <th>5</th>\n",
       "      <th>6</th>\n",
       "      <th>7</th>\n",
       "      <th>8</th>\n",
       "    </tr>\n",
       "  </thead>\n",
       "  <tbody>\n",
       "    <tr>\n",
       "      <th>gravit</th>\n",
       "      <td>112</td>\n",
       "      <td>377</td>\n",
       "      <td>245</td>\n",
       "      <td>298</td>\n",
       "      <td>241</td>\n",
       "      <td>49</td>\n",
       "      <td>312</td>\n",
       "      <td>168</td>\n",
       "      <td>8</td>\n",
       "    </tr>\n",
       "    <tr>\n",
       "      <th>fratar</th>\n",
       "      <td>105</td>\n",
       "      <td>452</td>\n",
       "      <td>192</td>\n",
       "      <td>306</td>\n",
       "      <td>186</td>\n",
       "      <td>88</td>\n",
       "      <td>330</td>\n",
       "      <td>136</td>\n",
       "      <td>14</td>\n",
       "    </tr>\n",
       "    <tr>\n",
       "      <th>furness</th>\n",
       "      <td>99</td>\n",
       "      <td>452</td>\n",
       "      <td>199</td>\n",
       "      <td>292</td>\n",
       "      <td>194</td>\n",
       "      <td>94</td>\n",
       "      <td>320</td>\n",
       "      <td>145</td>\n",
       "      <td>16</td>\n",
       "    </tr>\n",
       "    <tr>\n",
       "      <th>avGF</th>\n",
       "      <td>104</td>\n",
       "      <td>464</td>\n",
       "      <td>186</td>\n",
       "      <td>296</td>\n",
       "      <td>175</td>\n",
       "      <td>104</td>\n",
       "      <td>325</td>\n",
       "      <td>141</td>\n",
       "      <td>15</td>\n",
       "    </tr>\n",
       "    <tr>\n",
       "      <th>detroit</th>\n",
       "      <td>103</td>\n",
       "      <td>458</td>\n",
       "      <td>199</td>\n",
       "      <td>295</td>\n",
       "      <td>191</td>\n",
       "      <td>91</td>\n",
       "      <td>318</td>\n",
       "      <td>141</td>\n",
       "      <td>15</td>\n",
       "    </tr>\n",
       "    <tr>\n",
       "      <th>weighted</th>\n",
       "      <td>103</td>\n",
       "      <td>487</td>\n",
       "      <td>157</td>\n",
       "      <td>295</td>\n",
       "      <td>155</td>\n",
       "      <td>131</td>\n",
       "      <td>324</td>\n",
       "      <td>144</td>\n",
       "      <td>14</td>\n",
       "    </tr>\n",
       "  </tbody>\n",
       "</table>\n",
       "</div>"
      ],
      "text/plain": [
       "            0    1    2    3    4    5    6    7   8\n",
       "gravit    112  377  245  298  241   49  312  168   8\n",
       "fratar    105  452  192  306  186   88  330  136  14\n",
       "furness    99  452  199  292  194   94  320  145  16\n",
       "avGF      104  464  186  296  175  104  325  141  15\n",
       "detroit   103  458  199  295  191   91  318  141  15\n",
       "weighted  103  487  157  295  155  131  324  144  14"
      ]
     },
     "execution_count": 81,
     "metadata": {},
     "output_type": "execute_result"
    }
   ],
   "source": [
    "all_travs.T"
   ]
  },
  {
   "cell_type": "code",
   "execution_count": 82,
   "id": "326df9a0-30bd-4b80-a584-5fff962c60a8",
   "metadata": {},
   "outputs": [
    {
     "data": {
      "text/html": [
       "<div>\n",
       "<style scoped>\n",
       "    .dataframe tbody tr th:only-of-type {\n",
       "        vertical-align: middle;\n",
       "    }\n",
       "\n",
       "    .dataframe tbody tr th {\n",
       "        vertical-align: top;\n",
       "    }\n",
       "\n",
       "    .dataframe thead th {\n",
       "        text-align: right;\n",
       "    }\n",
       "</style>\n",
       "<table border=\"1\" class=\"dataframe\">\n",
       "  <thead>\n",
       "    <tr style=\"text-align: right;\">\n",
       "      <th></th>\n",
       "      <th>gravit</th>\n",
       "      <th>fratar</th>\n",
       "      <th>furness</th>\n",
       "      <th>avGF</th>\n",
       "      <th>detroit</th>\n",
       "      <th>weighted</th>\n",
       "    </tr>\n",
       "  </thead>\n",
       "  <tbody>\n",
       "    <tr>\n",
       "      <th>count</th>\n",
       "      <td>9.000000</td>\n",
       "      <td>9.000000</td>\n",
       "      <td>9.000000</td>\n",
       "      <td>9.000000</td>\n",
       "      <td>9.000000</td>\n",
       "      <td>9.000000</td>\n",
       "    </tr>\n",
       "    <tr>\n",
       "      <th>mean</th>\n",
       "      <td>201.111111</td>\n",
       "      <td>201.000000</td>\n",
       "      <td>201.222222</td>\n",
       "      <td>201.111111</td>\n",
       "      <td>201.222222</td>\n",
       "      <td>201.111111</td>\n",
       "    </tr>\n",
       "    <tr>\n",
       "      <th>std</th>\n",
       "      <td>125.302079</td>\n",
       "      <td>137.909391</td>\n",
       "      <td>134.494217</td>\n",
       "      <td>137.606726</td>\n",
       "      <td>136.279839</td>\n",
       "      <td>142.537227</td>\n",
       "    </tr>\n",
       "    <tr>\n",
       "      <th>min</th>\n",
       "      <td>8.000000</td>\n",
       "      <td>14.000000</td>\n",
       "      <td>16.000000</td>\n",
       "      <td>15.000000</td>\n",
       "      <td>15.000000</td>\n",
       "      <td>14.000000</td>\n",
       "    </tr>\n",
       "    <tr>\n",
       "      <th>25%</th>\n",
       "      <td>112.000000</td>\n",
       "      <td>105.000000</td>\n",
       "      <td>99.000000</td>\n",
       "      <td>104.000000</td>\n",
       "      <td>103.000000</td>\n",
       "      <td>131.000000</td>\n",
       "    </tr>\n",
       "    <tr>\n",
       "      <th>50%</th>\n",
       "      <td>241.000000</td>\n",
       "      <td>186.000000</td>\n",
       "      <td>194.000000</td>\n",
       "      <td>175.000000</td>\n",
       "      <td>191.000000</td>\n",
       "      <td>155.000000</td>\n",
       "    </tr>\n",
       "    <tr>\n",
       "      <th>75%</th>\n",
       "      <td>298.000000</td>\n",
       "      <td>306.000000</td>\n",
       "      <td>292.000000</td>\n",
       "      <td>296.000000</td>\n",
       "      <td>295.000000</td>\n",
       "      <td>295.000000</td>\n",
       "    </tr>\n",
       "    <tr>\n",
       "      <th>max</th>\n",
       "      <td>377.000000</td>\n",
       "      <td>452.000000</td>\n",
       "      <td>452.000000</td>\n",
       "      <td>464.000000</td>\n",
       "      <td>458.000000</td>\n",
       "      <td>487.000000</td>\n",
       "    </tr>\n",
       "  </tbody>\n",
       "</table>\n",
       "</div>"
      ],
      "text/plain": [
       "           gravit      fratar     furness        avGF     detroit    weighted\n",
       "count    9.000000    9.000000    9.000000    9.000000    9.000000    9.000000\n",
       "mean   201.111111  201.000000  201.222222  201.111111  201.222222  201.111111\n",
       "std    125.302079  137.909391  134.494217  137.606726  136.279839  142.537227\n",
       "min      8.000000   14.000000   16.000000   15.000000   15.000000   14.000000\n",
       "25%    112.000000  105.000000   99.000000  104.000000  103.000000  131.000000\n",
       "50%    241.000000  186.000000  194.000000  175.000000  191.000000  155.000000\n",
       "75%    298.000000  306.000000  292.000000  296.000000  295.000000  295.000000\n",
       "max    377.000000  452.000000  452.000000  464.000000  458.000000  487.000000"
      ]
     },
     "execution_count": 82,
     "metadata": {},
     "output_type": "execute_result"
    }
   ],
   "source": [
    "all_travs.describe()"
   ]
  },
  {
   "cell_type": "code",
   "execution_count": 83,
   "id": "a21f018a-4ea0-4441-9d31-e1a448cfa451",
   "metadata": {},
   "outputs": [
    {
     "data": {
      "text/html": [
       "<div>\n",
       "<style scoped>\n",
       "    .dataframe tbody tr th:only-of-type {\n",
       "        vertical-align: middle;\n",
       "    }\n",
       "\n",
       "    .dataframe tbody tr th {\n",
       "        vertical-align: top;\n",
       "    }\n",
       "\n",
       "    .dataframe thead th {\n",
       "        text-align: right;\n",
       "    }\n",
       "</style>\n",
       "<table border=\"1\" class=\"dataframe\">\n",
       "  <thead>\n",
       "    <tr style=\"text-align: right;\">\n",
       "      <th></th>\n",
       "      <th>count</th>\n",
       "      <th>mean</th>\n",
       "      <th>std</th>\n",
       "      <th>min</th>\n",
       "      <th>25%</th>\n",
       "      <th>50%</th>\n",
       "      <th>75%</th>\n",
       "      <th>max</th>\n",
       "    </tr>\n",
       "  </thead>\n",
       "  <tbody>\n",
       "    <tr>\n",
       "      <th>0</th>\n",
       "      <td>6.0</td>\n",
       "      <td>104.333333</td>\n",
       "      <td>4.273952</td>\n",
       "      <td>99.0</td>\n",
       "      <td>103.00</td>\n",
       "      <td>103.5</td>\n",
       "      <td>104.75</td>\n",
       "      <td>112.0</td>\n",
       "    </tr>\n",
       "    <tr>\n",
       "      <th>1</th>\n",
       "      <td>6.0</td>\n",
       "      <td>448.333333</td>\n",
       "      <td>37.280916</td>\n",
       "      <td>377.0</td>\n",
       "      <td>452.00</td>\n",
       "      <td>455.0</td>\n",
       "      <td>462.50</td>\n",
       "      <td>487.0</td>\n",
       "    </tr>\n",
       "    <tr>\n",
       "      <th>2</th>\n",
       "      <td>6.0</td>\n",
       "      <td>196.333333</td>\n",
       "      <td>28.479232</td>\n",
       "      <td>157.0</td>\n",
       "      <td>187.50</td>\n",
       "      <td>195.5</td>\n",
       "      <td>199.00</td>\n",
       "      <td>245.0</td>\n",
       "    </tr>\n",
       "    <tr>\n",
       "      <th>3</th>\n",
       "      <td>6.0</td>\n",
       "      <td>297.000000</td>\n",
       "      <td>4.816638</td>\n",
       "      <td>292.0</td>\n",
       "      <td>295.00</td>\n",
       "      <td>295.5</td>\n",
       "      <td>297.50</td>\n",
       "      <td>306.0</td>\n",
       "    </tr>\n",
       "    <tr>\n",
       "      <th>4</th>\n",
       "      <td>6.0</td>\n",
       "      <td>190.333333</td>\n",
       "      <td>28.577380</td>\n",
       "      <td>155.0</td>\n",
       "      <td>177.75</td>\n",
       "      <td>188.5</td>\n",
       "      <td>193.25</td>\n",
       "      <td>241.0</td>\n",
       "    </tr>\n",
       "    <tr>\n",
       "      <th>5</th>\n",
       "      <td>6.0</td>\n",
       "      <td>92.833333</td>\n",
       "      <td>26.573797</td>\n",
       "      <td>49.0</td>\n",
       "      <td>88.75</td>\n",
       "      <td>92.5</td>\n",
       "      <td>101.50</td>\n",
       "      <td>131.0</td>\n",
       "    </tr>\n",
       "    <tr>\n",
       "      <th>6</th>\n",
       "      <td>6.0</td>\n",
       "      <td>321.500000</td>\n",
       "      <td>6.252999</td>\n",
       "      <td>312.0</td>\n",
       "      <td>318.50</td>\n",
       "      <td>322.0</td>\n",
       "      <td>324.75</td>\n",
       "      <td>330.0</td>\n",
       "    </tr>\n",
       "    <tr>\n",
       "      <th>7</th>\n",
       "      <td>6.0</td>\n",
       "      <td>145.833333</td>\n",
       "      <td>11.303392</td>\n",
       "      <td>136.0</td>\n",
       "      <td>141.00</td>\n",
       "      <td>142.5</td>\n",
       "      <td>144.75</td>\n",
       "      <td>168.0</td>\n",
       "    </tr>\n",
       "    <tr>\n",
       "      <th>8</th>\n",
       "      <td>6.0</td>\n",
       "      <td>13.666667</td>\n",
       "      <td>2.875181</td>\n",
       "      <td>8.0</td>\n",
       "      <td>14.00</td>\n",
       "      <td>14.5</td>\n",
       "      <td>15.00</td>\n",
       "      <td>16.0</td>\n",
       "    </tr>\n",
       "  </tbody>\n",
       "</table>\n",
       "</div>"
      ],
      "text/plain": [
       "   count        mean        std    min     25%    50%     75%    max\n",
       "0    6.0  104.333333   4.273952   99.0  103.00  103.5  104.75  112.0\n",
       "1    6.0  448.333333  37.280916  377.0  452.00  455.0  462.50  487.0\n",
       "2    6.0  196.333333  28.479232  157.0  187.50  195.5  199.00  245.0\n",
       "3    6.0  297.000000   4.816638  292.0  295.00  295.5  297.50  306.0\n",
       "4    6.0  190.333333  28.577380  155.0  177.75  188.5  193.25  241.0\n",
       "5    6.0   92.833333  26.573797   49.0   88.75   92.5  101.50  131.0\n",
       "6    6.0  321.500000   6.252999  312.0  318.50  322.0  324.75  330.0\n",
       "7    6.0  145.833333  11.303392  136.0  141.00  142.5  144.75  168.0\n",
       "8    6.0   13.666667   2.875181    8.0   14.00   14.5   15.00   16.0"
      ]
     },
     "execution_count": 83,
     "metadata": {},
     "output_type": "execute_result"
    }
   ],
   "source": [
    "all_travs.apply(pd.DataFrame.describe, axis=1)"
   ]
  },
  {
   "cell_type": "code",
   "execution_count": 84,
   "id": "61046ea6-579f-478f-8954-459061c60c58",
   "metadata": {},
   "outputs": [],
   "source": [
    "# all_travs.describe().T"
   ]
  },
  {
   "cell_type": "code",
   "execution_count": 85,
   "id": "ddc4f0b0-eb60-4347-bfea-2552773d9a95",
   "metadata": {},
   "outputs": [
    {
     "data": {
      "text/html": [
       "<div>\n",
       "<style scoped>\n",
       "    .dataframe tbody tr th:only-of-type {\n",
       "        vertical-align: middle;\n",
       "    }\n",
       "\n",
       "    .dataframe tbody tr th {\n",
       "        vertical-align: top;\n",
       "    }\n",
       "\n",
       "    .dataframe thead th {\n",
       "        text-align: right;\n",
       "    }\n",
       "</style>\n",
       "<table border=\"1\" class=\"dataframe\">\n",
       "  <thead>\n",
       "    <tr style=\"text-align: right;\">\n",
       "      <th></th>\n",
       "      <th>fratar</th>\n",
       "      <th>furness</th>\n",
       "      <th>avGF</th>\n",
       "      <th>detroit</th>\n",
       "      <th>weighted</th>\n",
       "    </tr>\n",
       "  </thead>\n",
       "  <tbody>\n",
       "    <tr>\n",
       "      <th>count</th>\n",
       "      <td>9.000000</td>\n",
       "      <td>9.000000</td>\n",
       "      <td>9.000000</td>\n",
       "      <td>9.000000</td>\n",
       "      <td>9.000000</td>\n",
       "    </tr>\n",
       "    <tr>\n",
       "      <th>mean</th>\n",
       "      <td>201.000000</td>\n",
       "      <td>201.222222</td>\n",
       "      <td>201.111111</td>\n",
       "      <td>201.222222</td>\n",
       "      <td>201.111111</td>\n",
       "    </tr>\n",
       "    <tr>\n",
       "      <th>std</th>\n",
       "      <td>137.909391</td>\n",
       "      <td>134.494217</td>\n",
       "      <td>137.606726</td>\n",
       "      <td>136.279839</td>\n",
       "      <td>142.537227</td>\n",
       "    </tr>\n",
       "    <tr>\n",
       "      <th>min</th>\n",
       "      <td>14.000000</td>\n",
       "      <td>16.000000</td>\n",
       "      <td>15.000000</td>\n",
       "      <td>15.000000</td>\n",
       "      <td>14.000000</td>\n",
       "    </tr>\n",
       "    <tr>\n",
       "      <th>25%</th>\n",
       "      <td>105.000000</td>\n",
       "      <td>99.000000</td>\n",
       "      <td>104.000000</td>\n",
       "      <td>103.000000</td>\n",
       "      <td>131.000000</td>\n",
       "    </tr>\n",
       "    <tr>\n",
       "      <th>50%</th>\n",
       "      <td>186.000000</td>\n",
       "      <td>194.000000</td>\n",
       "      <td>175.000000</td>\n",
       "      <td>191.000000</td>\n",
       "      <td>155.000000</td>\n",
       "    </tr>\n",
       "    <tr>\n",
       "      <th>75%</th>\n",
       "      <td>306.000000</td>\n",
       "      <td>292.000000</td>\n",
       "      <td>296.000000</td>\n",
       "      <td>295.000000</td>\n",
       "      <td>295.000000</td>\n",
       "    </tr>\n",
       "    <tr>\n",
       "      <th>max</th>\n",
       "      <td>452.000000</td>\n",
       "      <td>452.000000</td>\n",
       "      <td>464.000000</td>\n",
       "      <td>458.000000</td>\n",
       "      <td>487.000000</td>\n",
       "    </tr>\n",
       "  </tbody>\n",
       "</table>\n",
       "</div>"
      ],
      "text/plain": [
       "           fratar     furness        avGF     detroit    weighted\n",
       "count    9.000000    9.000000    9.000000    9.000000    9.000000\n",
       "mean   201.000000  201.222222  201.111111  201.222222  201.111111\n",
       "std    137.909391  134.494217  137.606726  136.279839  142.537227\n",
       "min     14.000000   16.000000   15.000000   15.000000   14.000000\n",
       "25%    105.000000   99.000000  104.000000  103.000000  131.000000\n",
       "50%    186.000000  194.000000  175.000000  191.000000  155.000000\n",
       "75%    306.000000  292.000000  296.000000  295.000000  295.000000\n",
       "max    452.000000  452.000000  464.000000  458.000000  487.000000"
      ]
     },
     "execution_count": 85,
     "metadata": {},
     "output_type": "execute_result"
    }
   ],
   "source": [
    "growthfact.describe()"
   ]
  },
  {
   "cell_type": "code",
   "execution_count": 86,
   "id": "7d1fa5f8-95d1-42f5-87ff-2abc3a6211eb",
   "metadata": {},
   "outputs": [
    {
     "data": {
      "text/plain": [
       "gravit      241.0\n",
       "fratar      186.0\n",
       "furness     194.0\n",
       "avGF        175.0\n",
       "detroit     191.0\n",
       "weighted    155.0\n",
       "dtype: float64"
      ]
     },
     "execution_count": 86,
     "metadata": {},
     "output_type": "execute_result"
    }
   ],
   "source": [
    "all_travs.median()"
   ]
  },
  {
   "cell_type": "code",
   "execution_count": 87,
   "id": "bee45d5c-296d-482c-ace5-c87a042ffef9",
   "metadata": {},
   "outputs": [
    {
     "data": {
      "text/plain": [
       "fratar      186.0\n",
       "furness     194.0\n",
       "avGF        175.0\n",
       "detroit     191.0\n",
       "weighted    155.0\n",
       "dtype: float64"
      ]
     },
     "execution_count": 87,
     "metadata": {},
     "output_type": "execute_result"
    }
   ],
   "source": [
    "growthfact.median()"
   ]
  },
  {
   "cell_type": "code",
   "execution_count": 88,
   "id": "0b97d289-2f3e-4413-8e0d-3639851578e6",
   "metadata": {},
   "outputs": [
    {
     "data": {
      "text/plain": [
       "<seaborn.axisgrid.PairGrid at 0x7f4616423dc0>"
      ]
     },
     "execution_count": 88,
     "metadata": {},
     "output_type": "execute_result"
    },
    {
     "data": {
      "image/png": "[encoded data removed]",
      "text/plain": [
       "<Figure size 1080x1080 with 42 Axes>"
      ]
     },
     "metadata": {
      "needs_background": "light"
     },
     "output_type": "display_data"
    }
   ],
   "source": [
    "sns.pairplot(all_travs)"
   ]
  },
  {
   "cell_type": "code",
   "execution_count": 89,
   "id": "2ef879a7-68a3-41d8-a0b1-0445432b5c49",
   "metadata": {},
   "outputs": [
    {
     "data": {
      "text/plain": [
       "<AxesSubplot:xlabel='gravit', ylabel='Density'>"
      ]
     },
     "execution_count": 89,
     "metadata": {},
     "output_type": "execute_result"
    },
    {
     "data": {
      "image/png": "[encoded data removed]",
      "text/plain": [
       "<Figure size 432x288 with 1 Axes>"
      ]
     },
     "metadata": {
      "needs_background": "light"
     },
     "output_type": "display_data"
    }
   ],
   "source": [
    "sns.kdeplot(data=all_travs['gravit'], shade=True)"
   ]
  },
  {
   "cell_type": "code",
   "execution_count": 90,
   "id": "e9bab85b-5e28-45aa-8670-80654b66123f",
   "metadata": {},
   "outputs": [
    {
     "data": {
      "text/plain": [
       "<AxesSubplot:xlabel='fratar', ylabel='Density'>"
      ]
     },
     "execution_count": 90,
     "metadata": {},
     "output_type": "execute_result"
    },
    {
     "data": {
      "image/png": "[encoded data removed]",
      "text/plain": [
       "<Figure size 432x288 with 1 Axes>"
      ]
     },
     "metadata": {
      "needs_background": "light"
     },
     "output_type": "display_data"
    }
   ],
   "source": [
    "sns.kdeplot(data=all_travs['fratar'], shade=True)"
   ]
  },
  {
   "cell_type": "code",
   "execution_count": 91,
   "id": "8700446c-2c81-486c-87ee-619956e50d1e",
   "metadata": {},
   "outputs": [
    {
     "data": {
      "text/plain": [
       "<AxesSubplot:xlabel='furness', ylabel='Density'>"
      ]
     },
     "execution_count": 91,
     "metadata": {},
     "output_type": "execute_result"
    },
    {
     "data": {
      "image/png": "[encoded data removed]",
      "text/plain": [
       "<Figure size 432x288 with 1 Axes>"
      ]
     },
     "metadata": {
      "needs_background": "light"
     },
     "output_type": "display_data"
    }
   ],
   "source": [
    "sns.kdeplot(data=all_travs['furness'], shade=True)"
   ]
  },
  {
   "cell_type": "code",
   "execution_count": 92,
   "id": "71cf3e7d-bd05-41ee-bbb0-10d96f1ad2be",
   "metadata": {},
   "outputs": [
    {
     "data": {
      "text/plain": [
       "<AxesSubplot:xlabel='avGF', ylabel='Density'>"
      ]
     },
     "execution_count": 92,
     "metadata": {},
     "output_type": "execute_result"
    },
    {
     "data": {
      "image/png": "[encoded data removed]",
      "text/plain": [
       "<Figure size 432x288 with 1 Axes>"
      ]
     },
     "metadata": {
      "needs_background": "light"
     },
     "output_type": "display_data"
    }
   ],
   "source": [
    "sns.kdeplot(data=all_travs['avGF'], shade=True)"
   ]
  },
  {
   "cell_type": "code",
   "execution_count": 93,
   "id": "7da1baf6-584b-485d-9a42-e0bcffc8d974",
   "metadata": {},
   "outputs": [
    {
     "data": {
      "text/plain": [
       "<AxesSubplot:xlabel='detroit', ylabel='Density'>"
      ]
     },
     "execution_count": 93,
     "metadata": {},
     "output_type": "execute_result"
    },
    {
     "data": {
      "image/png": "[encoded data removed]",
      "text/plain": [
       "<Figure size 432x288 with 1 Axes>"
      ]
     },
     "metadata": {
      "needs_background": "light"
     },
     "output_type": "display_data"
    }
   ],
   "source": [
    "sns.kdeplot(data=all_travs['detroit'], shade=True)"
   ]
  },
  {
   "cell_type": "code",
   "execution_count": 94,
   "id": "78aca099-14b1-4ac9-9d05-520277e5f98f",
   "metadata": {},
   "outputs": [
    {
     "data": {
      "text/plain": [
       "<AxesSubplot:xlabel='weighted', ylabel='Density'>"
      ]
     },
     "execution_count": 94,
     "metadata": {},
     "output_type": "execute_result"
    },
    {
     "data": {
      "image/png": "[encoded data removed]",
      "text/plain": [
       "<Figure size 432x288 with 1 Axes>"
      ]
     },
     "metadata": {
      "needs_background": "light"
     },
     "output_type": "display_data"
    }
   ],
   "source": [
    "sns.kdeplot(data=all_travs['weighted'], shade=True)"
   ]
  },
  {
   "cell_type": "code",
   "execution_count": 95,
   "id": "cba251de-ab1d-4bdf-8c81-a3cb06426154",
   "metadata": {},
   "outputs": [
    {
     "data": {
      "text/plain": [
       "<seaborn.axisgrid.JointGrid at 0x7f4607f91400>"
      ]
     },
     "execution_count": 95,
     "metadata": {},
     "output_type": "execute_result"
    },
    {
     "data": {
      "image/png": "[encoded data removed]",
      "text/plain": [
       "<Figure size 432x432 with 3 Axes>"
      ]
     },
     "metadata": {
      "needs_background": "light"
     },
     "output_type": "display_data"
    }
   ],
   "source": [
    "sns.jointplot(x=all_travs['gravit'], y=all_travs['avGF'], kind=\"kde\")"
   ]
  },
  {
   "cell_type": "code",
   "execution_count": 96,
   "id": "dccafcb8-90d6-424f-b693-18c18698b8b4",
   "metadata": {},
   "outputs": [
    {
     "data": {
      "text/plain": [
       "<seaborn.axisgrid.JointGrid at 0x7f4607e75970>"
      ]
     },
     "execution_count": 96,
     "metadata": {},
     "output_type": "execute_result"
    },
    {
     "data": {
      "image/png": "[encoded data removed]",
      "text/plain": [
       "<Figure size 432x432 with 3 Axes>"
      ]
     },
     "metadata": {
      "needs_background": "light"
     },
     "output_type": "display_data"
    }
   ],
   "source": [
    "sns.jointplot(x=all_travs['gravit'], y=all_travs['weighted'], kind=\"kde\")"
   ]
  },
  {
   "cell_type": "markdown",
   "id": "63ac2321-ef77-46e0-a2e2-4de979090f70",
   "metadata": {},
   "source": [
    "#### Determine a paired t-test for the data sets"
   ]
  },
  {
   "cell_type": "code",
   "execution_count": 139,
   "id": "e178a3b5-18a9-4e2f-adef-90a1c2900b67",
   "metadata": {},
   "outputs": [
    {
     "name": "stdout",
     "output_type": "stream",
     "text": [
      "T-statistic: -0.07928957645975286\n",
      "P-value: 0.9387497889454535\n",
      "The difference between the models is not statistically significant.\n"
     ]
    }
   ],
   "source": [
    "# Comparing Fratar with Furness data sets\n",
    "\n",
    "t_statistic, p_value = stats.ttest_rel(travsc_fratflat, travsc_furnflat)\n",
    "\n",
    "print(f\"T-statistic: {t_statistic}\")\n",
    "print(f\"P-value: {p_value}\")\n",
    "\n",
    "if p_value < 0.05:\n",
    "    print(\"The difference between the models is statistically significant.\")\n",
    "else:\n",
    "    print(\"The difference between the models is not statistically significant.\")"
   ]
  },
  {
   "cell_type": "code",
   "execution_count": 143,
   "id": "09467a9e-80af-4c7b-964b-22456f6203f8",
   "metadata": {},
   "outputs": [
    {
     "name": "stdout",
     "output_type": "stream",
     "text": [
      "T-statistic: 0.00783585007927433\n",
      "P-value: 0.9939398386600368\n",
      "The difference between the models is not statistically significant.\n"
     ]
    }
   ],
   "source": [
    "# Comparing gravitational model with Fratar data sets\n",
    "\n",
    "t_statistic, p_value = stats.ttest_rel(gvalsr_finAflat, travsc_fratflat)\n",
    "\n",
    "print(f\"T-statistic: {t_statistic}\")\n",
    "print(f\"P-value: {p_value}\")\n",
    "\n",
    "if p_value < 0.05:\n",
    "    print(\"The difference between the models is statistically significant.\")\n",
    "else:\n",
    "    print(\"The difference between the models is not statistically significant.\")"
   ]
  },
  {
   "cell_type": "code",
   "execution_count": 145,
   "id": "bacf8793-57ae-4187-a5b2-64e8c153e038",
   "metadata": {},
   "outputs": [
    {
     "name": "stdout",
     "output_type": "stream",
     "text": [
      "T-statistic: 0.0\n",
      "P-value: 1.0\n",
      "The difference between the models is not statistically significant.\n"
     ]
    }
   ],
   "source": [
    "# Comparing gravitational model with weighted data sets\n",
    "\n",
    "t_statistic, p_value = stats.ttest_rel(gvalsr_finAflat, travsc_wgtdflat)\n",
    "\n",
    "print(f\"T-statistic: {t_statistic}\")\n",
    "print(f\"P-value: {p_value}\")\n",
    "\n",
    "if p_value < 0.05:\n",
    "    print(\"The difference between the models is statistically significant.\")\n",
    "else:\n",
    "    print(\"The difference between the models is not statistically significant.\")"
   ]
  }
 ],
 "metadata": {
  "kernelspec": {
   "display_name": "Python [conda env:ml_data_env]",
   "language": "python",
   "name": "conda-env-ml_data_env-py"
  },
  "language_info": {
   "codemirror_mode": {
    "name": "ipython",
    "version": 3
   },
   "file_extension": ".py",
   "mimetype": "text/x-python",
   "name": "python",
   "nbconvert_exporter": "python",
   "pygments_lexer": "ipython3",
   "version": "3.9.12"
  }
 },
 "nbformat": 4,
 "nbformat_minor": 5
}
