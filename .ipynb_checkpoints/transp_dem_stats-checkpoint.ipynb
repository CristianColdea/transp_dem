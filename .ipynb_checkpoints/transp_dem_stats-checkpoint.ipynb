{
 "cells": [
  {
   "cell_type": "code",
   "execution_count": 5,
   "id": "7514353f-84f2-4382-9343-4558851d11f1",
   "metadata": {},
   "outputs": [],
   "source": [
    "import numpy as np\n",
    "import pandas as pd\n",
    "import seaborn as sns\n",
    "import matplotlib.pyplot as plt"
   ]
  },
  {
   "cell_type": "markdown",
   "id": "b3c070d4-58a6-49f9-8eff-3765c0493be3",
   "metadata": {},
   "source": [
    "#### Introducing data"
   ]
  },
  {
   "cell_type": "code",
   "execution_count": 13,
   "id": "8b73228e-686c-423c-bb28-e61067dbf2c4",
   "metadata": {},
   "outputs": [],
   "source": [
    "# Projected travels into the future according to demographics and land use\n",
    "P_is = np.array([750, 580, 480])    # produced\n",
    "A_js = np.array([722, 786, 302])    # attracted\n",
    "\n",
    "# Matrix of travels obtained with gravitational model, neutral calibration coeffs (simulating historical data)\n",
    "gvalsr_m = np.array([[82, 140, 78], [43, 26, 31], [82, 31, 37]])\n",
    "\n",
    "# Adjusted intial travels matrices\n",
    "gvalsadjA = np.array([[81, 116, 103], [40, 20, 39], [78, 25, 47]])    # interative adjustment (Furness style)\n",
    "gvalsadjB = np.array([[78, 112, 110], [40, 22, 38], [83, 26, 40]])    # weighted adjustment (new method)\n",
    "\n",
    "# Calibration coefficients resulted accordingly\n",
    "ccoeffsA = np.array([[0.49, 0.95, 1.46], [1.25, 1, 0.77], [1.41, 1.2, 0.21]])    # iterative ...\n",
    "ccoeffsB = np.array([[0.51, 0.98, 1.36], [1.25, 0.91, 0.79], [1.33, 1.15, 0.25]])    # weighted ...\n",
    "\n",
    "# Matrix of future travels obtained with gravitational model and ccoeffsA matrix\n",
    "gvalsr_finA = np.array([[112, 377, 245], [298, 241, 49], [312, 168, 8]])\n",
    "# Matrix of future travels obtained with gravitational model and ccoeffsB matrix\n",
    "gvalsr_finB = np.array([[115, 392, 238], [302, 225, 54], [304, 169, 10]])\n",
    "\n",
    "# Matrix of travels obtained with Furness method\n",
    "travsc_furn = np.array([[99, 452, 199], [292, 194, 94], [320, 145, 16]])\n",
    "\n",
    "# Matrix of travels obtained with Fratar method\n",
    "travsc_frat = np.array([[105, 452, 192], [306, 186, 88], [330, 136, 14]])\n",
    "\n",
    "# Matrix of travels obtained with Detroit method\n",
    "travsc_detr = np.array([[103, 458, 199], [295, 191, 91], [318, 141, 15]])\n",
    "\n",
    "# Matrix of travels obtained with weighted method (new method)\n",
    "travsc_wgtd = np.array([[103, 487, 157], [295, 155, 131], [324, 144, 14]])"
   ]
  },
  {
   "cell_type": "markdown",
   "id": "d2dee3ba-11ce-4e77-bd2a-05d634dee03b",
   "metadata": {},
   "source": [
    "#### Flatten the original arrays"
   ]
  },
  {
   "cell_type": "code",
   "execution_count": 24,
   "id": "c56e34e2-f27a-467b-8aac-c0049063ebfe",
   "metadata": {},
   "outputs": [],
   "source": [
    "gvalsr_finAflat = gvalsr_finA.flatten()\n",
    "gvalsr_finBflat = gvalsr_finB.flatten()\n",
    "\n",
    "travsc_furnflat = travsc_furn.flatten()\n",
    "\n",
    "travsc_fratflat = travsc_frat.flatten()\n",
    "\n",
    "travsc_detrflat = travsc_detr.flatten()\n",
    "\n",
    "travsc_wgtdflat = travsc_wgtd.flatten()"
   ]
  },
  {
   "cell_type": "markdown",
   "id": "bb3800aa-81f0-4ee9-bc6f-52f5619215a6",
   "metadata": {},
   "source": [
    "#### Create two dfs from flattened arrays"
   ]
  },
  {
   "cell_type": "code",
   "execution_count": 41,
   "id": "0f172eae-1f99-4016-9453-26265f8a193f",
   "metadata": {},
   "outputs": [
    {
     "data": {
      "text/html": [
       "<div>\n",
       "<style scoped>\n",
       "    .dataframe tbody tr th:only-of-type {\n",
       "        vertical-align: middle;\n",
       "    }\n",
       "\n",
       "    .dataframe tbody tr th {\n",
       "        vertical-align: top;\n",
       "    }\n",
       "\n",
       "    .dataframe thead th {\n",
       "        text-align: right;\n",
       "    }\n",
       "</style>\n",
       "<table border=\"1\" class=\"dataframe\">\n",
       "  <thead>\n",
       "    <tr style=\"text-align: right;\">\n",
       "      <th></th>\n",
       "      <th>gravit</th>\n",
       "      <th>furness</th>\n",
       "      <th>fratar</th>\n",
       "      <th>detroit</th>\n",
       "      <th>weighted</th>\n",
       "    </tr>\n",
       "  </thead>\n",
       "  <tbody>\n",
       "    <tr>\n",
       "      <th>0</th>\n",
       "      <td>112</td>\n",
       "      <td>99</td>\n",
       "      <td>105</td>\n",
       "      <td>103</td>\n",
       "      <td>103</td>\n",
       "    </tr>\n",
       "    <tr>\n",
       "      <th>1</th>\n",
       "      <td>377</td>\n",
       "      <td>452</td>\n",
       "      <td>452</td>\n",
       "      <td>458</td>\n",
       "      <td>487</td>\n",
       "    </tr>\n",
       "    <tr>\n",
       "      <th>2</th>\n",
       "      <td>245</td>\n",
       "      <td>199</td>\n",
       "      <td>192</td>\n",
       "      <td>199</td>\n",
       "      <td>157</td>\n",
       "    </tr>\n",
       "    <tr>\n",
       "      <th>3</th>\n",
       "      <td>298</td>\n",
       "      <td>292</td>\n",
       "      <td>306</td>\n",
       "      <td>295</td>\n",
       "      <td>295</td>\n",
       "    </tr>\n",
       "    <tr>\n",
       "      <th>4</th>\n",
       "      <td>241</td>\n",
       "      <td>194</td>\n",
       "      <td>186</td>\n",
       "      <td>191</td>\n",
       "      <td>155</td>\n",
       "    </tr>\n",
       "  </tbody>\n",
       "</table>\n",
       "</div>"
      ],
      "text/plain": [
       "   gravit  furness  fratar  detroit  weighted\n",
       "0     112       99     105      103       103\n",
       "1     377      452     452      458       487\n",
       "2     245      199     192      199       157\n",
       "3     298      292     306      295       295\n",
       "4     241      194     186      191       155"
      ]
     },
     "execution_count": 41,
     "metadata": {},
     "output_type": "execute_result"
    }
   ],
   "source": [
    "all_travs = pd.DataFrame(data=[gvalsr_finAflat, travsc_furnflat,\n",
    "                               travsc_fratflat, travsc_detrflat,\n",
    "                               travsc_wgtdflat]).T\n",
    "all_travs.columns = ['gravit', 'furness', 'fratar', 'detroit', 'weighted']\n",
    "all_travs.head()"
   ]
  }
 ],
 "metadata": {
  "kernelspec": {
   "display_name": "Python [conda env:ml_data_env]",
   "language": "python",
   "name": "conda-env-ml_data_env-py"
  },
  "language_info": {
   "codemirror_mode": {
    "name": "ipython",
    "version": 3
   },
   "file_extension": ".py",
   "mimetype": "text/x-python",
   "name": "python",
   "nbconvert_exporter": "python",
   "pygments_lexer": "ipython3",
   "version": "3.9.12"
  }
 },
 "nbformat": 4,
 "nbformat_minor": 5
}
