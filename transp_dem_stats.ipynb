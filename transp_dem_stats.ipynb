{
 "cells": [
  {
   "cell_type": "code",
   "execution_count": null,
   "id": "7514353f-84f2-4382-9343-4558851d11f1",
   "metadata": {},
   "outputs": [],
   "source": [
    "import numpy as np\n",
    "import pandas as pd\n",
    "import seaborn as sns\n",
    "import matplotlib.pyplot as plt"
   ]
  },
  {
   "cell_type": "markdown",
   "id": "b3c070d4-58a6-49f9-8eff-3765c0493be3",
   "metadata": {},
   "source": [
    "#### Introducing data"
   ]
  },
  {
   "cell_type": "code",
   "execution_count": 40,
   "id": "8b73228e-686c-423c-bb28-e61067dbf2c4",
   "metadata": {},
   "outputs": [],
   "source": [
    "# Projected travels into the future according to demographics and land use\n",
    "P_is = np.array([750, 580, 480])    # produced\n",
    "A_js = np.array([722, 786, 302])    # attracted\n",
    "\n",
    "# Matrix of travels obtained with gravitational model, neutral calibration coeffs (simulating historical data)\n",
    "gvalsr_m = np.array([[82, 140, 78], [43, 26, 31], [82, 31, 37]])\n",
    "\n",
    "# Adjusted intial travels matrices\n",
    "gvalsadjA = np.array([[81, 116, 103], [40, 20, 39], [78, 25, 47]])    # interative adjustment (Furness style)\n",
    "gvalsadjB = np.array([[78, 112, 110], [40, 22, 38], [83, 26, 40]])    # weighted adjustment (new method)\n",
    "\n",
    "# Calibration coefficients resulted accordingly\n",
    "ccoeffsA = np.array([[0.49, 0.95, 1.46], [1.25, 1, 0.77], [1.41, 1.2, 0.21]])    # iterative ...\n",
    "ccoeffsB = np.array([[0.51, 0.98, 1.36], [1.25, 0.91, 0.79], [1.33, 1.15, 0.25]])    # weighted ...\n",
    "\n",
    "# Matrix of future travels obtained with gravitational model and ccoeffsA matrix\n",
    "gvalsr_finA = np.array([[111, 307,293], [336, 224, 67], [394, 175, 12]])\n",
    "# Matrix of future travels obtained with gravitational model and ccoeffsB matrix\n",
    "gvalsr_finB = np.array([[115, 316, 273], [336, 203, 69], [371, 167, 14]])\n",
    "\n",
    "# Matrix of travels obtained with Furness method\n",
    "travsc_furn = np.array([[99, 452, 199], [292, 194, 94], [320, 145, 16]])\n",
    "\n",
    "# Matrix of travels obtained with Fratar method\n",
    "travsc_frat = np.array([[105, 452, 192], [306, 186, 88], [330, 136, 14]])\n",
    "\n",
    "# Matrix of travels obtained with Detroit method\n",
    "travsc_detr = np.array([[103, 458, 199], [295, 191, 91], [318, 141, 15]])\n",
    "\n",
    "# Matrix of travels obtained with weighted method (new method)\n",
    "travsc_wgtd = np.array([[103, 487, 157], [295, 155, 131], [324, 144, 14]])"
   ]
  }
 ],
 "metadata": {
  "kernelspec": {
   "display_name": "Python [conda env:ml_data_env]",
   "language": "python",
   "name": "conda-env-ml_data_env-py"
  },
  "language_info": {
   "codemirror_mode": {
    "name": "ipython",
    "version": 3
   },
   "file_extension": ".py",
   "mimetype": "text/x-python",
   "name": "python",
   "nbconvert_exporter": "python",
   "pygments_lexer": "ipython3",
   "version": "3.9.12"
  }
 },
 "nbformat": 4,
 "nbformat_minor": 5
}
