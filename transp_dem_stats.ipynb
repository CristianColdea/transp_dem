{
 "cells": [
  {
   "cell_type": "code",
   "execution_count": null,
   "id": "7514353f-84f2-4382-9343-4558851d11f1",
   "metadata": {},
   "outputs": [],
   "source": [
    "import numpy as np\n",
    "import pandas as pd\n",
    "import seaborn as sns\n",
    "import matplotlib.pyplot as plt"
   ]
  },
  {
   "cell_type": "markdown",
   "id": "b3c070d4-58a6-49f9-8eff-3765c0493be3",
   "metadata": {},
   "source": [
    "#### Introducing data"
   ]
  },
  {
   "cell_type": "code",
   "execution_count": null,
   "id": "8b73228e-686c-423c-bb28-e61067dbf2c4",
   "metadata": {},
   "outputs": [],
   "source": [
    "# Matrix of travels obtained with gravitational model, neutral calibration coeffs (simulating historical data)\n",
    "grav_init = np.array[[82, 140, 78"
   ]
  }
 ],
 "metadata": {
  "kernelspec": {
   "display_name": "Python [conda env:ml_data_env]",
   "language": "python",
   "name": "conda-env-ml_data_env-py"
  },
  "language_info": {
   "codemirror_mode": {
    "name": "ipython",
    "version": 3
   },
   "file_extension": ".py",
   "mimetype": "text/x-python",
   "name": "python",
   "nbconvert_exporter": "python",
   "pygments_lexer": "ipython3",
   "version": "3.9.12"
  }
 },
 "nbformat": 4,
 "nbformat_minor": 5
}
