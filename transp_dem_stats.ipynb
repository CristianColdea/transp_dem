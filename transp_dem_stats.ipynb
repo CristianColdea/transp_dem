{
 "cells": [
  {
   "cell_type": "code",
   "execution_count": 11,
   "id": "cb16521c-694d-474b-91e7-4078acb2822c",
   "metadata": {},
   "outputs": [],
   "source": [
    "import numpy as np\n",
    "import pandas as pd\n",
    "import seaborn as sns\n",
    "import matplotlib.pyplot as plt"
   ]
  },
  {
   "cell_type": "code",
   "execution_count": 14,
   "id": "3cdc6562-0eef-40a4-a742-1ba0807b982d",
   "metadata": {},
   "outputs": [],
   "source": [
    "# introducing the working data\n"
   ]
  }
 ],
 "metadata": {
  "kernelspec": {
   "display_name": "Python [conda env:ml_data_env]",
   "language": "python",
   "name": "conda-env-ml_data_env-py"
  },
  "language_info": {
   "codemirror_mode": {
    "name": "ipython",
    "version": 3
   },
   "file_extension": ".py",
   "mimetype": "text/x-python",
   "name": "python",
   "nbconvert_exporter": "python",
   "pygments_lexer": "ipython3",
   "version": "3.9.12"
  }
 },
 "nbformat": 4,
 "nbformat_minor": 5
}
